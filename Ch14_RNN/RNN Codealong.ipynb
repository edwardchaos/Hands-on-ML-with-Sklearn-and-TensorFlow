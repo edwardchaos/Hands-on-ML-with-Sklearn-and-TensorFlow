{
 "cells": [
  {
   "cell_type": "markdown",
   "metadata": {},
   "source": [
    "# Basic RNN without TF RNN operations"
   ]
  },
  {
   "cell_type": "markdown",
   "metadata": {},
   "source": [
    "An unrolled rnn with 5 neurons assuming 2 time steps. Input vector of size 3"
   ]
  },
  {
   "cell_type": "code",
   "execution_count": 1,
   "metadata": {},
   "outputs": [],
   "source": [
    "n_inputs = 3\n",
    "n_neurons = 5"
   ]
  },
  {
   "cell_type": "code",
   "execution_count": 2,
   "metadata": {},
   "outputs": [],
   "source": [
    "import tensorflow as tf\n",
    "X0 = tf.placeholder(dtype=tf.float32, shape=(None,n_inputs))\n",
    "X1 = tf.placeholder(dtype=tf.float32, shape=(None,n_inputs))\n",
    "\n",
    "Wx = tf.Variable(tf.random_normal(shape=[n_inputs,n_neurons],\n",
    "                                 dtype=tf.float32))\n",
    "Wy = tf.Variable(tf.random_normal(shape=[n_neurons,n_neurons],\n",
    "                                 dtype=tf.float32))\n",
    "b = tf.Variable(tf.random_normal(shape=[1,n_neurons],\n",
    "                                dtype=tf.float32))\n",
    "\n",
    "Y0 = tf.tanh(tf.matmul(X0,Wx) + b)\n",
    "Y1 = tf.tanh(tf.matmul(X1,Wx) + tf.matmul(Y0,Wy) + b)\n",
    "\n",
    "init = tf.global_variables_initializer()"
   ]
  },
  {
   "cell_type": "code",
   "execution_count": 3,
   "metadata": {},
   "outputs": [],
   "source": [
    "import numpy as np\n",
    "X0_batch = np.array([[0, 1, 2], [3, 4, 5], [6, 7, 8], [9, 0, 1]])\n",
    "X1_batch = np.array([[9, 8, 7], [0, 0, 0], [6, 5, 4], [3, 2, 1]])\n",
    "\n",
    "with tf.Session() as sess:\n",
    "    init.run()\n",
    "    \n",
    "    Y0_val, Y1_val = sess.run([Y0,Y1], feed_dict={X0:X0_batch,\n",
    "                                          X1:X1_batch})"
   ]
  },
  {
   "cell_type": "code",
   "execution_count": 4,
   "metadata": {},
   "outputs": [
    {
     "name": "stdout",
     "output_type": "stream",
     "text": [
      "[[ 0.9069021   0.95094186  0.9999823  -0.99908364  0.9762498 ]\n",
      " [ 0.9993543   0.9925049   1.         -0.7203413   0.9999986 ]\n",
      " [ 0.9999958   0.9988751   1.          0.9659054   1.        ]\n",
      " [ 0.99292046  0.99984086 -0.99999917  0.99997395 -0.77904946]]\n"
     ]
    }
   ],
   "source": [
    "print (Y0_val)"
   ]
  },
  {
   "cell_type": "code",
   "execution_count": 5,
   "metadata": {},
   "outputs": [
    {
     "name": "stdout",
     "output_type": "stream",
     "text": [
      "[[ 0.99997604 -0.9875312   1.          0.9999999   1.        ]\n",
      " [-0.7701138  -0.9989653  -0.9385692  -0.9502374  -0.7617843 ]\n",
      " [ 0.9764096  -0.83620816  0.99999845  0.9999039   0.9999998 ]\n",
      " [ 0.07642302  0.99994564  0.91755545  0.9977068   0.99500686]]\n"
     ]
    }
   ],
   "source": [
    "print (Y1_val)"
   ]
  },
  {
   "cell_type": "markdown",
   "metadata": {},
   "source": [
    "# Same graph using TF RNN operation"
   ]
  },
  {
   "cell_type": "markdown",
   "metadata": {},
   "source": [
    "static_rnn creates an unrolled RNN by chaining cells together."
   ]
  },
  {
   "cell_type": "code",
   "execution_count": 6,
   "metadata": {},
   "outputs": [
    {
     "data": {
      "text/plain": [
       "'\\nX0 = tf.placeholder(dtype=tf.float32,shape=[None,n_inputs])\\nX1 = tf.placeholder(dtype=tf.float32,shape=[None,n_inputs])\\n\\nbasic_cell = tf.contrib.rnn.BasicRNNCell(num_units=n_neurons)\\noutput_seqs, states = tf.contrib.rnn.static_rnn(cell=basic_cell,\\n                                               inputs=[X0,X1],\\n                                               dtype=tf.float32)\\n\\nY0_rnn,Y1_rnn = output_seqs\\n'"
      ]
     },
     "execution_count": 6,
     "metadata": {},
     "output_type": "execute_result"
    }
   ],
   "source": [
    "\"\"\"\n",
    "X0 = tf.placeholder(dtype=tf.float32,shape=[None,n_inputs])\n",
    "X1 = tf.placeholder(dtype=tf.float32,shape=[None,n_inputs])\n",
    "\n",
    "basic_cell = tf.contrib.rnn.BasicRNNCell(num_units=n_neurons)\n",
    "output_seqs, states = tf.contrib.rnn.static_rnn(cell=basic_cell,\n",
    "                                               inputs=[X0,X1],\n",
    "                                               dtype=tf.float32)\n",
    "\n",
    "Y0_rnn,Y1_rnn = output_seqs\n",
    "\"\"\""
   ]
  },
  {
   "cell_type": "markdown",
   "metadata": {},
   "source": [
    "# Training to Predict Time Series"
   ]
  },
  {
   "cell_type": "code",
   "execution_count": 7,
   "metadata": {},
   "outputs": [],
   "source": [
    "n_neurons = 100\n",
    "n_steps = 20\n",
    "n_inputs = 1\n",
    "n_outputs = 1"
   ]
  },
  {
   "cell_type": "code",
   "execution_count": 8,
   "metadata": {},
   "outputs": [],
   "source": [
    "X = tf.placeholder(dtype=tf.float32,shape=[None,n_steps,n_inputs])\n",
    "y = tf.placeholder(dtype=tf.float32,shape=[None,n_steps,n_outputs])\n",
    "\n",
    "rnn_cell = tf.contrib.rnn.BasicRNNCell(num_units=100,activation=tf.nn.relu)\n",
    "outputs_rnn, states_rnn = tf.nn.dynamic_rnn(rnn_cell,X,dtype=tf.float32)\n"
   ]
  },
  {
   "cell_type": "code",
   "execution_count": 10,
   "metadata": {},
   "outputs": [],
   "source": [
    "cell = tf.contrib.rnn.OutputProjectionWrapper(\n",
    "            tf.contrib.rnn.BasicRNNCell(num_units=n_neurons,\n",
    "                                       activation=tf.nn.relu),\n",
    "            output_size = n_outputs)"
   ]
  },
  {
   "cell_type": "code",
   "execution_count": 11,
   "metadata": {},
   "outputs": [],
   "source": [
    "learning_rate  = 0.001\n",
    "\n",
    "loss = tf.reduce_mean(tf.square(outputs_rnn - y))\n",
    "optimizer = tf.train.AdamOptimizer(learning_rate=learning_rate)\n",
    "training_op = optimizer.minimize(loss)\n",
    "\n",
    "init = tf.global_variables_initializer()\n"
   ]
  },
  {
   "cell_type": "code",
   "execution_count": null,
   "metadata": {},
   "outputs": [],
   "source": [
    "n_iterations = 1500\n",
    "batch_size=50\n",
    "\n",
    "with tf.Session() as sess:\n",
    "    init.run()\n",
    "    \n",
    "    for iteration in range(n_iterations):\n",
    "        X_batch, y_batch = [...] #Fetch time series data batch\n",
    "        X_batch = X_batch.reshape((-1,n_steps,n_inputs))\n",
    "        sess.run(training_op, feed_dict={X:X_batch, y:y_batch})\n",
    "        \n",
    "        if iteration % 100 == 0:\n",
    "            mse = loss.eval(feed_dict={X:X_batch, y:y_batch})\n",
    "            print (iteration, \"\\tMSE:\", mse)\n",
    "        "
   ]
  }
 ],
 "metadata": {
  "kernelspec": {
   "display_name": "Python 3",
   "language": "python",
   "name": "python3"
  },
  "language_info": {
   "codemirror_mode": {
    "name": "ipython",
    "version": 3
   },
   "file_extension": ".py",
   "mimetype": "text/x-python",
   "name": "python",
   "nbconvert_exporter": "python",
   "pygments_lexer": "ipython3",
   "version": "3.6.6"
  }
 },
 "nbformat": 4,
 "nbformat_minor": 2
}
