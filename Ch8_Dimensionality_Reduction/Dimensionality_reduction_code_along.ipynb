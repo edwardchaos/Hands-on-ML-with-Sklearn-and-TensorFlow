{
 "cells": [
  {
   "cell_type": "markdown",
   "metadata": {},
   "source": [
    "# Sklearn PCA"
   ]
  },
  {
   "cell_type": "code",
   "execution_count": 1,
   "metadata": {},
   "outputs": [
    {
     "name": "stdout",
     "output_type": "stream",
     "text": [
      "dict_keys(['target', 'DESCR', 'images', 'data', 'target_names'])\n"
     ]
    }
   ],
   "source": [
    "from sklearn import datasets\n",
    "\n",
    "digits = datasets.load_digits()\n",
    "print(digits.keys())\n",
    "X = digits['data']\n",
    "y = digits['target']\n",
    "\n",
    "from sklearn.decomposition import PCA\n",
    "\n",
    "pca = PCA(n_components=2) #Automatically centers data around origin\n",
    "\n",
    "X2D = pca.fit_transform(X)"
   ]
  },
  {
   "cell_type": "code",
   "execution_count": 2,
   "metadata": {},
   "outputs": [
    {
     "data": {
      "text/plain": [
       "(1797, 2)"
      ]
     },
     "execution_count": 2,
     "metadata": {},
     "output_type": "execute_result"
    }
   ],
   "source": [
    "X2D.shape"
   ]
  },
  {
   "cell_type": "code",
   "execution_count": 3,
   "metadata": {},
   "outputs": [
    {
     "data": {
      "text/plain": [
       "array([[-1.18594440e-17, -1.73094646e-02, -2.23428832e-01,\n",
       "        -1.35913305e-01, -3.30323150e-02, -9.66340809e-02,\n",
       "        -8.32943209e-03,  2.26900229e-03, -3.20516536e-04,\n",
       "        -1.19308910e-01, -2.44451684e-01,  1.48512744e-01,\n",
       "        -4.67319538e-02, -2.17740743e-01, -1.48136677e-02,\n",
       "         4.47779647e-03, -4.94136705e-05, -7.95419489e-02,\n",
       "         8.33951336e-02,  2.15915352e-01, -1.72126815e-01,\n",
       "        -1.63712096e-01,  2.86444543e-02,  4.23251849e-03,\n",
       "         9.85488411e-05,  6.42319049e-02,  2.54093308e-01,\n",
       "        -3.56770921e-02, -2.09462580e-01, -4.31311399e-02,\n",
       "         5.13118743e-02,  2.13422752e-04,  0.00000000e+00,\n",
       "         1.59950878e-01,  3.68690773e-01,  1.64406827e-01,\n",
       "         8.52007812e-02,  3.72982748e-02,  2.15866942e-02,\n",
       "         0.00000000e+00,  1.28865586e-03,  1.06945285e-01,\n",
       "         3.03067457e-01,  2.47813034e-01,  2.09637298e-01,\n",
       "         1.22325150e-02, -3.69458535e-02,  1.61485045e-03,\n",
       "         6.93023594e-04, -8.35144042e-03, -5.58598917e-02,\n",
       "         9.30534131e-02,  1.07387720e-01, -1.37734567e-01,\n",
       "        -6.32879460e-02,  9.61672473e-04,  9.55079156e-06,\n",
       "        -1.40786833e-02, -2.35675485e-01, -1.41225586e-01,\n",
       "        -9.15964493e-03, -8.94184641e-02, -3.65977059e-02,\n",
       "        -1.14684928e-02],\n",
       "       [ 6.91239905e-18, -1.01064269e-02, -4.90847716e-02,\n",
       "        -9.43353633e-03, -5.36020802e-02, -1.17755083e-01,\n",
       "        -6.21276738e-02, -7.93562084e-03, -1.63219461e-04,\n",
       "        -2.10170761e-02,  6.03479995e-02, -5.33773318e-03,\n",
       "        -9.19778188e-02, -5.19211040e-02, -5.89346747e-02,\n",
       "        -3.33272549e-03, -4.22892674e-05,  3.62450651e-02,\n",
       "         1.98256609e-01, -4.86380404e-02, -2.25575883e-01,\n",
       "        -4.50538331e-03,  2.67703777e-02, -2.08697102e-04,\n",
       "        -5.66244528e-05,  7.71228376e-02,  1.88446474e-01,\n",
       "        -1.37951853e-01, -2.61043441e-01,  4.98351633e-02,\n",
       "         6.51117435e-02,  4.03216207e-05, -0.00000000e+00,\n",
       "         8.81555942e-02,  8.71735456e-02, -2.70860143e-01,\n",
       "        -2.85292443e-01,  1.66460839e-01,  1.27860234e-01,\n",
       "        -0.00000000e+00,  2.89440392e-04,  5.08303875e-02,\n",
       "         1.30274565e-01, -2.68906961e-01, -3.01575565e-01,\n",
       "         2.40258600e-01,  2.17555232e-01,  1.32726909e-03,\n",
       "         2.86746501e-04,  1.05549863e-02,  1.53371250e-01,\n",
       "        -1.19535493e-01, -9.72508899e-02,  2.85869389e-01,\n",
       "         1.48776413e-01,  5.42368435e-04, -3.34026955e-05,\n",
       "        -1.00790695e-02, -7.02722758e-02,  1.71108536e-02,\n",
       "         1.94296436e-01,  1.76697316e-01,  1.94549933e-02,\n",
       "        -6.69679129e-03]])"
      ]
     },
     "execution_count": 3,
     "metadata": {},
     "output_type": "execute_result"
    }
   ],
   "source": [
    "pca.components_"
   ]
  },
  {
   "cell_type": "code",
   "execution_count": 4,
   "metadata": {},
   "outputs": [
    {
     "data": {
      "text/plain": [
       "array([0.14890594, 0.13618771])"
      ]
     },
     "execution_count": 4,
     "metadata": {},
     "output_type": "execute_result"
    }
   ],
   "source": [
    "pca.explained_variance_ratio_"
   ]
  },
  {
   "cell_type": "code",
   "execution_count": 5,
   "metadata": {},
   "outputs": [],
   "source": [
    "from sklearn.model_selection import train_test_split\n",
    "\n",
    "X_train,X_val,y_train,y_val = train_test_split(X,y,test_size=0.2)"
   ]
  },
  {
   "cell_type": "code",
   "execution_count": 6,
   "metadata": {},
   "outputs": [],
   "source": [
    "\n",
    "pca=PCA()\n",
    "pca.fit(X_train)\n",
    "\n",
    "import numpy as np\n",
    "cumulative_sum=np.cumsum(pca.explained_variance_ratio_)\n",
    "d = np.argmax(cumulative_sum>= 0.95) + 1"
   ]
  },
  {
   "cell_type": "code",
   "execution_count": 7,
   "metadata": {},
   "outputs": [
    {
     "data": {
      "text/plain": [
       "28"
      ]
     },
     "execution_count": 7,
     "metadata": {},
     "output_type": "execute_result"
    }
   ],
   "source": [
    "d"
   ]
  },
  {
   "cell_type": "markdown",
   "metadata": {},
   "source": [
    "The code above calculates all principal components, and includes enough principal components such that the cumulative sum of variance ratio is >= 95% of total variance. This gives the number of principal components that should be included to best represent the original data.\n",
    "\n",
    "We could fit another PCA with n_components=29 but instead, we can also choose a decimal between 0 and 1 such as 0.95 to automatically preserve 95% variance"
   ]
  },
  {
   "cell_type": "code",
   "execution_count": 8,
   "metadata": {},
   "outputs": [],
   "source": [
    "pca = PCA(n_components=0.95)\n",
    "X_reduced = pca.fit_transform(X_train)"
   ]
  },
  {
   "cell_type": "code",
   "execution_count": 9,
   "metadata": {},
   "outputs": [
    {
     "name": "stdout",
     "output_type": "stream",
     "text": [
      "64\n"
     ]
    },
    {
     "data": {
      "text/plain": [
       "Text(0, 0.5, 'Cumulative Explained Variance')"
      ]
     },
     "execution_count": 9,
     "metadata": {},
     "output_type": "execute_result"
    },
    {
     "data": {
      "image/png": "[encoded data removed]",
      "text/plain": [
       "<Figure size 432x288 with 1 Axes>"
      ]
     },
     "metadata": {
      "needs_background": "light"
     },
     "output_type": "display_data"
    }
   ],
   "source": [
    "import matplotlib.pyplot as plt\n",
    "%matplotlib inline\n",
    "print(cumulative_sum.shape[0])\n",
    "plt.plot(range(cumulative_sum.shape[0]), cumulative_sum)\n",
    "plt.xlabel(\"Dimensions\")\n",
    "plt.ylabel(\"Cumulative Explained Variance\")"
   ]
  },
  {
   "cell_type": "markdown",
   "metadata": {},
   "source": [
    "## PCA for Compression and Reconstruction"
   ]
  },
  {
   "cell_type": "code",
   "execution_count": 10,
   "metadata": {},
   "outputs": [],
   "source": [
    "pca = PCA(n_components=0.95) #Compressed to use first 154 principal components\n",
    "x_reduced = pca.fit_transform(X_train)\n",
    "x_recovered = pca.inverse_transform(x_reduced)"
   ]
  },
  {
   "cell_type": "code",
   "execution_count": 11,
   "metadata": {},
   "outputs": [
    {
     "data": {
      "text/plain": [
       "28"
      ]
     },
     "execution_count": 11,
     "metadata": {},
     "output_type": "execute_result"
    }
   ],
   "source": [
    "pca.n_components_"
   ]
  },
  {
   "cell_type": "code",
   "execution_count": 12,
   "metadata": {},
   "outputs": [
    {
     "data": {
      "text/plain": [
       "(1437, 28)"
      ]
     },
     "execution_count": 12,
     "metadata": {},
     "output_type": "execute_result"
    }
   ],
   "source": [
    "x_reduced.shape"
   ]
  },
  {
   "cell_type": "code",
   "execution_count": 13,
   "metadata": {},
   "outputs": [
    {
     "data": {
      "text/plain": [
       "(1437, 64)"
      ]
     },
     "execution_count": 13,
     "metadata": {},
     "output_type": "execute_result"
    }
   ],
   "source": [
    "x_recovered.shape"
   ]
  },
  {
   "cell_type": "markdown",
   "metadata": {},
   "source": [
    "## Incremental Principal Component Analysis"
   ]
  },
  {
   "cell_type": "markdown",
   "metadata": {},
   "source": [
    "PCA requires that the entire dataset be available in memory. Incremental PCA is an online mini-batch approach."
   ]
  },
  {
   "cell_type": "code",
   "execution_count": 14,
   "metadata": {},
   "outputs": [],
   "source": [
    "from sklearn.decomposition import IncrementalPCA\n",
    "n_batch=100\n",
    "inc_pca = IncrementalPCA(n_components=15)"
   ]
  },
  {
   "cell_type": "code",
   "execution_count": 15,
   "metadata": {},
   "outputs": [
    {
     "name": "stderr",
     "output_type": "stream",
     "text": [
      "/home/edwardchaos/.local/share/virtualenvs/TF_py3/lib/python3.5/site-packages/sklearn/decomposition/incremental_pca.py:271: RuntimeWarning: Mean of empty slice.\n",
      "  explained_variance[self.n_components_:].mean()\n",
      "/home/edwardchaos/.local/share/virtualenvs/TF_py3/lib/python3.5/site-packages/numpy/core/_methods.py:80: RuntimeWarning: invalid value encountered in double_scalars\n",
      "  ret = ret.dtype.type(ret / rcount)\n"
     ]
    }
   ],
   "source": [
    "for X_batch in np.array_split(X_train, n_batch):\n",
    "    inc_pca.partial_fit(X_batch)\n",
    "    \n",
    "X_reduced = inc_pca.transform(X_train)"
   ]
  },
  {
   "cell_type": "markdown",
   "metadata": {},
   "source": [
    "Using Numpy's memmap class instead, we can keep the dataset in a binary file and numpy would load it in memory only when needed. It abstracts away the fact that not the entire dataset is in memory. This is not an online technique."
   ]
  },
  {
   "cell_type": "code",
   "execution_count": 16,
   "metadata": {},
   "outputs": [
    {
     "data": {
      "text/plain": [
       "'\\nimport numpy as np\\nX_mm = np.memmap(filename, dtype=\"float32\", mode=\"readonly\", shape=(m,n))\\n#What happens if datatype is set to 64, does it just break?\\n#Binary file ay?? how do you save such a file\\n\\nbatch_size = m\\ninc_pca = IncrementalPCA(n_components=154, batch_size=batch_size)\\ninc.fit(X_mm)\\n'"
      ]
     },
     "execution_count": 16,
     "metadata": {},
     "output_type": "execute_result"
    }
   ],
   "source": [
    "\"\"\"\n",
    "import numpy as np\n",
    "X_mm = np.memmap(filename, dtype=\"float32\", mode=\"readonly\", shape=(m,n))\n",
    "#What happens if datatype is set to 64, does it just break?\n",
    "#Binary file ay?? how do you save such a file\n",
    "\n",
    "batch_size = m\n",
    "inc_pca = IncrementalPCA(n_components=154, batch_size=batch_size)\n",
    "inc.fit(X_mm)\n",
    "\"\"\""
   ]
  },
  {
   "cell_type": "markdown",
   "metadata": {},
   "source": [
    "## Randomized PCA"
   ]
  },
  {
   "cell_type": "markdown",
   "metadata": {},
   "source": [
    "Approximates the first d principal components\n",
    "\n",
    "Much faster than previous PCAs when d is much smaller than n,\n",
    "d - dimensionality\n",
    "n - training instances"
   ]
  },
  {
   "cell_type": "code",
   "execution_count": 17,
   "metadata": {},
   "outputs": [],
   "source": [
    "rnd_pca = PCA(n_components=29, svd_solver=\"randomized\")\n",
    "X_reduced = rnd_pca.fit_transform(X_train)"
   ]
  },
  {
   "cell_type": "markdown",
   "metadata": {},
   "source": [
    "# Kernel PCA 4 Non-Linear Projections"
   ]
  },
  {
   "cell_type": "code",
   "execution_count": 18,
   "metadata": {},
   "outputs": [],
   "source": [
    "from sklearn.decomposition import KernelPCA\n",
    "\n",
    "ker_pca = KernelPCA(n_components=29,kernel=\"rbf\",gamma=0.04)\n",
    "X_reduced = ker_pca.fit_transform(X_train)"
   ]
  },
  {
   "cell_type": "markdown",
   "metadata": {},
   "source": [
    "Using Gridsearch to find the best kernel and gamma value"
   ]
  },
  {
   "cell_type": "code",
   "execution_count": 34,
   "metadata": {},
   "outputs": [
    {
     "name": "stdout",
     "output_type": "stream",
     "text": [
      "False False True True\n"
     ]
    },
    {
     "data": {
      "text/plain": [
       "GridSearchCV(cv=3, error_score='raise',\n",
       "       estimator=Pipeline(memory=None,\n",
       "     steps=[('scaler', StandardScaler(copy=True, with_mean=True, with_std=True)), ('imputer', Imputer(axis=0, copy=True, missing_values='NaN', strategy='mean', verbose=0)), ('kpca', KernelPCA(alpha=1.0, coef0=1, copy_X=True, degree=3, eigen_solver='auto',\n",
       "     fit_inverse_transform=False, gamma=None, ker...ty='l2', random_state=None, solver='liblinear', tol=0.0001,\n",
       "          verbose=0, warm_start=False))]),\n",
       "       fit_params=None, iid=True, n_jobs=1,\n",
       "       param_grid=[{'kpca__kernel': ['rbf', 'sigmoid'], 'kpca__gamma': array([0.03   , 0.03222, 0.03444, 0.03667, 0.03889, 0.04111, 0.04333,\n",
       "       0.04556, 0.04778, 0.05   ])}],\n",
       "       pre_dispatch='2*n_jobs', refit=True, return_train_score='warn',\n",
       "       scoring=None, verbose=0)"
      ]
     },
     "execution_count": 34,
     "metadata": {},
     "output_type": "execute_result"
    }
   ],
   "source": [
    "from sklearn.model_selection import GridSearchCV\n",
    "from sklearn.linear_model import LogisticRegression\n",
    "from sklearn.pipeline import Pipeline\n",
    "from sklearn.preprocessing import Imputer\n",
    "from sklearn.preprocessing import StandardScaler\n",
    "\n",
    "clf = Pipeline([\n",
    "    (\"scaler\", StandardScaler()),\n",
    "    (\"imputer\", Imputer()),\n",
    "    (\"kpca\", KernelPCA(n_components=2)),\n",
    "    (\"log_reg\", LogisticRegression())\n",
    "])\n",
    "\n",
    "param_grid = [{\n",
    "    \"kpca__gamma\": np.linspace(0.03,0.05,10),\n",
    "    \"kpca__kernel\": [\"rbf\", \"sigmoid\"]\n",
    "}]\n",
    "\n",
    "grid_search = GridSearchCV(clf, param_grid, cv=3)\n",
    "X.shape\n",
    "y.shape\n",
    "print(np.any(np.isnan(X)),\n",
    "np.any(np.isnan(y)),\n",
    "np.all(np.isfinite(X)),\n",
    "np.all(np.isfinite(y)))\n",
    "grid_search.fit(X.astype(np.float64), y.astype(np.float64))\n"
   ]
  },
  {
   "cell_type": "code",
   "execution_count": 35,
   "metadata": {},
   "outputs": [
    {
     "name": "stdout",
     "output_type": "stream",
     "text": [
      "{'kpca__kernel': 'rbf', 'kpca__gamma': 0.04111111111111111}\n"
     ]
    }
   ],
   "source": [
    "print (grid_search.best_params_)"
   ]
  },
  {
   "cell_type": "markdown",
   "metadata": {},
   "source": [
    "Inversing transform using an rbf kernel is not as easy as linear pca and actually cannot be exactly done. An approximation can be done though with the code below"
   ]
  },
  {
   "cell_type": "code",
   "execution_count": 28,
   "metadata": {},
   "outputs": [],
   "source": [
    "rbf_pca = KernelPCA(n_components=2, kernel=\"rbf\", gamma=0.0433,\n",
    "                    fit_inverse_transform=True)\n",
    "\n",
    "X_reduced = rbf_pca.fit_transform(X)\n",
    "X_preimage = rbf_pca.inverse_transform(X_reduced)"
   ]
  },
  {
   "cell_type": "code",
   "execution_count": 29,
   "metadata": {},
   "outputs": [
    {
     "data": {
      "text/plain": [
       "18.762041177809053"
      ]
     },
     "execution_count": 29,
     "metadata": {},
     "output_type": "execute_result"
    }
   ],
   "source": [
    "from sklearn.metrics import mean_squared_error\n",
    "\n",
    "mean_squared_error(X,X_preimage)"
   ]
  },
  {
   "cell_type": "markdown",
   "metadata": {},
   "source": [
    "# Locally Linear Embedding (LLE)"
   ]
  },
  {
   "cell_type": "code",
   "execution_count": 36,
   "metadata": {},
   "outputs": [],
   "source": [
    "from sklearn.manifold import LocallyLinearEmbedding\n",
    "\n",
    "lle = LocallyLinearEmbedding(n_components=2, n_neighbors=10)\n",
    "X_reduced = lle.fit_transform(X)"
   ]
  },
  {
   "cell_type": "markdown",
   "metadata": {},
   "source": [
    "The basic idea is to preserve the relationship between local points in a lower dimensional space.\n",
    "\n",
    "How it's done:\n",
    "1. Given a point and it's k nearest neighbors, the point is expressed as a linear combination of its knn with corresponding coefficients stored in weight vector w.\n",
    "\n",
    "    This is done by solving a constrained optimization problem.\n",
    "\n",
    "2. Now that we have the relation represented in vector w, we can use it to estimate the position of the point in a lower dimension. \n",
    "\n",
    "    This is an unconstrained optimization problem"
   ]
  },
  {
   "cell_type": "code",
   "execution_count": null,
   "metadata": {},
   "outputs": [],
   "source": []
  }
 ],
 "metadata": {
  "kernelspec": {
   "display_name": "Python 3",
   "language": "python",
   "name": "python3"
  },
  "language_info": {
   "codemirror_mode": {
    "name": "ipython",
    "version": 3
   },
   "file_extension": ".py",
   "mimetype": "text/x-python",
   "name": "python",
   "nbconvert_exporter": "python",
   "pygments_lexer": "ipython3",
   "version": "3.5.2"
  }
 },
 "nbformat": 4,
 "nbformat_minor": 2
}
