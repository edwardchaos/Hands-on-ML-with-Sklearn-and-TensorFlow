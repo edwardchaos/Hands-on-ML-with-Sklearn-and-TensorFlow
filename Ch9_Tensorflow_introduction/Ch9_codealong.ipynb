{
 "cells": [
  {
   "cell_type": "markdown",
   "metadata": {},
   "source": [
    "# Tensorflow basics"
   ]
  },
  {
   "cell_type": "markdown",
   "metadata": {},
   "source": [
    "Creating a graph"
   ]
  },
  {
   "cell_type": "code",
   "execution_count": 1,
   "metadata": {},
   "outputs": [],
   "source": [
    "import tensorflow as tf\n",
    "\n",
    "x = tf.Variable(3, name='x')\n",
    "y = tf.Variable(4, name='y')\n",
    "f = x*x*y + y + 2"
   ]
  },
  {
   "cell_type": "code",
   "execution_count": 2,
   "metadata": {},
   "outputs": [
    {
     "name": "stdout",
     "output_type": "stream",
     "text": [
      "42\n"
     ]
    }
   ],
   "source": [
    "sess = tf.Session()\n",
    "\n",
    "sess.run(x.initializer)\n",
    "sess.run(y.initializer)\n",
    "result = sess.run(f)\n",
    "print(result)\n"
   ]
  },
  {
   "cell_type": "code",
   "execution_count": 3,
   "metadata": {},
   "outputs": [],
   "source": [
    "sess.close()"
   ]
  },
  {
   "cell_type": "code",
   "execution_count": 4,
   "metadata": {},
   "outputs": [
    {
     "name": "stdout",
     "output_type": "stream",
     "text": [
      "42\n"
     ]
    }
   ],
   "source": [
    "with tf.Session() as sess:\n",
    "    x.initializer.run()\n",
    "    y.initializer.run()\n",
    "    result = f.eval()\n",
    "    print(result)"
   ]
  },
  {
   "cell_type": "code",
   "execution_count": 5,
   "metadata": {},
   "outputs": [
    {
     "name": "stdout",
     "output_type": "stream",
     "text": [
      "42\n"
     ]
    }
   ],
   "source": [
    "init = tf.global_variables_initializer() #prepare an init node, not run\n",
    "                                         #right now\n",
    "    \n",
    "with tf.Session() as sess:\n",
    "    init.run()\n",
    "    result = f.eval()\n",
    "    print(result)"
   ]
  },
  {
   "cell_type": "code",
   "execution_count": 6,
   "metadata": {},
   "outputs": [
    {
     "data": {
      "text/plain": [
       "True"
      ]
     },
     "execution_count": 6,
     "metadata": {},
     "output_type": "execute_result"
    }
   ],
   "source": [
    "x1 = tf.Variable(1) #Creating a node adds it to the default graph\n",
    "x1.graph is tf.get_default_graph()"
   ]
  },
  {
   "cell_type": "markdown",
   "metadata": {},
   "source": [
    "What if you want to work with multiple graphs?"
   ]
  },
  {
   "cell_type": "code",
   "execution_count": 7,
   "metadata": {},
   "outputs": [
    {
     "data": {
      "text/plain": [
       "True"
      ]
     },
     "execution_count": 7,
     "metadata": {},
     "output_type": "execute_result"
    }
   ],
   "source": [
    "graph = tf.Graph()\n",
    "with graph.as_default():\n",
    "    x2 = tf.Variable(2)\n",
    "    \n",
    "x2.graph is graph"
   ]
  },
  {
   "cell_type": "code",
   "execution_count": 8,
   "metadata": {},
   "outputs": [
    {
     "data": {
      "text/plain": [
       "False"
      ]
     },
     "execution_count": 8,
     "metadata": {},
     "output_type": "execute_result"
    }
   ],
   "source": [
    "x2.graph is tf.get_default_graph()"
   ]
  },
  {
   "cell_type": "code",
   "execution_count": 9,
   "metadata": {},
   "outputs": [],
   "source": [
    "tf.reset_default_graph()"
   ]
  },
  {
   "cell_type": "code",
   "execution_count": 10,
   "metadata": {},
   "outputs": [
    {
     "name": "stdout",
     "output_type": "stream",
     "text": [
      "10\n",
      "15\n"
     ]
    }
   ],
   "source": [
    "w = tf.constant(3)\n",
    "x = w+2\n",
    "y = x+5\n",
    "z = x*3\n",
    "\n",
    "with tf.Session() as sess:\n",
    "    print(y.eval())\n",
    "    print(z.eval())\n",
    "    \n",
    "#What happened to initializing w?? W isn't a global variable, it's a constant"
   ]
  },
  {
   "cell_type": "code",
   "execution_count": 11,
   "metadata": {},
   "outputs": [
    {
     "name": "stdout",
     "output_type": "stream",
     "text": [
      "10\n",
      "15\n"
     ]
    }
   ],
   "source": [
    "with tf.Session() as sess:\n",
    "    y_val, z_val = sess.run([y,z])\n",
    "    print(y_val)\n",
    "    print(z_val)"
   ]
  },
  {
   "cell_type": "markdown",
   "metadata": {},
   "source": [
    "## Linear Regression with TensorFlow"
   ]
  },
  {
   "cell_type": "code",
   "execution_count": 12,
   "metadata": {},
   "outputs": [
    {
     "data": {
      "text/plain": [
       "array([   8.3252    ,   41.        ,    6.98412698,    1.02380952,\n",
       "        322.        ,    2.55555556,   37.88      , -122.23      ])"
      ]
     },
     "execution_count": 12,
     "metadata": {},
     "output_type": "execute_result"
    }
   ],
   "source": [
    "import numpy as np\n",
    "from sklearn.datasets import fetch_california_housing\n",
    "\n",
    "housing = fetch_california_housing()\n",
    "housing.keys()\n",
    "housing.data[0]"
   ]
  },
  {
   "cell_type": "code",
   "execution_count": 13,
   "metadata": {},
   "outputs": [],
   "source": [
    "m,n = housing.data.shape\n",
    "housing_data_plus_bias = np.c_[np.ones((m,1)), housing.data]\n",
    "\n",
    "X = tf.constant(housing_data_plus_bias, dtype=tf.float32, name=\"X\")\n",
    "y = tf.constant(housing.target.reshape(-1,1), dtype=tf.float32, name=\"y\")\n",
    "\n",
    "XT = tf.transpose(X) #Transpose in preparation for normal equation\n",
    "\n",
    "theta = tf.matmul(tf.matmul(tf.matrix_inverse(tf.matmul(XT,X)),XT),y)\n",
    "\n",
    "with tf.Session() as sess:\n",
    "    theta_value = theta.eval()"
   ]
  },
  {
   "cell_type": "markdown",
   "metadata": {},
   "source": [
    "## Batch Gradient Descent Linear Regression"
   ]
  },
  {
   "cell_type": "code",
   "execution_count": 14,
   "metadata": {},
   "outputs": [],
   "source": [
    "from sklearn.preprocessing import StandardScaler\n",
    "\n",
    "scaler = StandardScaler()\n",
    "X_scaled = scaler.fit_transform(housing_data_plus_bias)\n",
    "\n",
    "from sklearn.preprocessing import Imputer\n",
    "\n",
    "imputer = Imputer()\n",
    "X_ready = imputer.fit_transform(X_scaled)"
   ]
  },
  {
   "cell_type": "markdown",
   "metadata": {},
   "source": [
    "Now the data is ready for Batch Gradient Descent"
   ]
  },
  {
   "cell_type": "code",
   "execution_count": 15,
   "metadata": {},
   "outputs": [
    {
     "name": "stdout",
     "output_type": "stream",
     "text": [
      "Epoch  0 MSE =  7.9677873\n",
      "Epoch  100 MSE =  4.9308724\n",
      "Epoch  200 MSE =  4.854903\n",
      "Epoch  300 MSE =  4.8401456\n",
      "Epoch  400 MSE =  4.8313346\n",
      "Epoch  500 MSE =  4.82485\n",
      "Epoch  600 MSE =  4.819957\n",
      "Epoch  700 MSE =  4.8162403\n",
      "Epoch  800 MSE =  4.8134027\n",
      "Epoch  900 MSE =  4.8112264\n",
      "[[ 0.47845578]\n",
      " [ 0.873636  ]\n",
      " [ 0.14556561]\n",
      " [-0.31397176]\n",
      " [ 0.33048737]\n",
      " [ 0.00467944]\n",
      " [-0.04253284]\n",
      " [-0.6630776 ]\n",
      " [-0.6371763 ]]\n"
     ]
    }
   ],
   "source": [
    "n_epochs = 1000 #Number of times to loop through entire training set\n",
    "learning_rate = 0.01\n",
    "\n",
    "X = tf.constant(X_ready, dtype=tf.float32, name=\"X\")\n",
    "y = tf.constant(housing.target.reshape(-1,1), dtype=tf.float32, name=\"y\")\n",
    "\n",
    "theta = tf.Variable(tf.random_uniform([n + 1, 1], -1.0, 1.0), name=\"theta\")\n",
    "y_pred = tf.matmul(X,theta, name=\"predictions\")\n",
    "error = y_pred - y\n",
    "mse = tf.reduce_mean(tf.square(error), name=\"mse\")\n",
    "#mse just for keeping track of progress\n",
    "\n",
    "#Manually computing gradient\n",
    "##gradients = 2/m * tf.matmul(tf.transpose(X),error)\n",
    "\n",
    "#Using Tensorflow autodiff\n",
    "gradients = tf.gradients(mse,[theta])[0]\n",
    "\n",
    "training_op = tf.assign(theta, theta - (learning_rate*gradients))\n",
    "                        \n",
    "init = tf.global_variables_initializer()\n",
    "                        \n",
    "with tf.Session() as sess:\n",
    "    sess.run(init) #intiailize global variables\n",
    "    for epoch in range(n_epochs):\n",
    "        if epoch % 100 ==0:\n",
    "            print(\"Epoch \", epoch, \"MSE = \", mse.eval())\n",
    "        sess.run(training_op)\n",
    "                        \n",
    "    best_theta = theta.eval()\n",
    "    print(best_theta)"
   ]
  },
  {
   "cell_type": "code",
   "execution_count": 16,
   "metadata": {},
   "outputs": [
    {
     "name": "stdout",
     "output_type": "stream",
     "text": [
      "Epoch  0 MSE =  8.332202\n",
      "Epoch  100 MSE =  4.805535\n",
      "Epoch  200 MSE =  4.803355\n",
      "Epoch  300 MSE =  4.8032637\n",
      "Epoch  400 MSE =  4.803255\n",
      "Epoch  500 MSE =  4.8032546\n",
      "Epoch  600 MSE =  4.8032537\n",
      "Epoch  700 MSE =  4.8032537\n",
      "Epoch  800 MSE =  4.803254\n",
      "Epoch  900 MSE =  4.803254\n",
      "[[ 0.7720852 ]\n",
      " [ 0.8296224 ]\n",
      " [ 0.11875223]\n",
      " [-0.2655327 ]\n",
      " [ 0.30570108]\n",
      " [-0.00450284]\n",
      " [-0.03932639]\n",
      " [-0.8998784 ]\n",
      " [-0.8705341 ]]\n"
     ]
    }
   ],
   "source": [
    "#Same thing but with Tensorflow Optimizer\n",
    "\n",
    "n_epochs = 1000 #Number of times to loop through entire training set\n",
    "learning_rate = 0.01\n",
    "\n",
    "X = tf.constant(X_ready, dtype=tf.float32, name=\"X\")\n",
    "y = tf.constant(housing.target.reshape(-1,1), dtype=tf.float32, name=\"y\")\n",
    "\n",
    "theta = tf.Variable(tf.random_uniform([n + 1, 1], -1.0, 1.0), name=\"theta\")\n",
    "y_pred = tf.matmul(X,theta, name=\"predictions\")\n",
    "error = y_pred - y\n",
    "mse = tf.reduce_mean(tf.square(error), name=\"mse\")\n",
    "#mse just for keeping track of progress\n",
    "\n",
    "#Manually computing gradient\n",
    "##gradients = 2/m * tf.matmul(tf.transpose(X),error)\n",
    "\n",
    "#Using Tensorflow autodiff\n",
    "##gradients = tf.gradients(mse,[theta])[0]\n",
    "\n",
    "##training_op = tf.assign(theta, theta - (learning_rate*gradients))\n",
    "  \n",
    "#optimizer = tf.train.GradientDescentOptimizer(learning_rate=learning_rate)\n",
    "optimizer = tf.train.MomentumOptimizer(learning_rate=learning_rate,\n",
    "                                      momentum=0.9)\n",
    "training_op = optimizer.minimize(mse)\n",
    "\n",
    "init = tf.global_variables_initializer()\n",
    "                        \n",
    "with tf.Session() as sess:\n",
    "    sess.run(init) #intiailize global variables\n",
    "    for epoch in range(n_epochs):\n",
    "        if epoch % 100 ==0:\n",
    "            print(\"Epoch \", epoch, \"MSE = \", mse.eval())\n",
    "        sess.run(training_op)\n",
    "                        \n",
    "    best_theta = theta.eval()\n",
    "    print(best_theta)"
   ]
  },
  {
   "cell_type": "markdown",
   "metadata": {},
   "source": [
    "## Using Placeholders to Minibatch GD"
   ]
  },
  {
   "cell_type": "code",
   "execution_count": 17,
   "metadata": {},
   "outputs": [
    {
     "name": "stdout",
     "output_type": "stream",
     "text": [
      "[[6. 7. 8.]]\n",
      "[[ 9. 10. 11.]\n",
      " [12. 13. 14.]]\n"
     ]
    }
   ],
   "source": [
    "A = tf.placeholder(dtype=tf.float32, shape=(None,3)) # None means any size\n",
    "\n",
    "B = A + 5\n",
    "\n",
    "with tf.Session() as sess:\n",
    "    B_val_1 = B.eval(feed_dict={A:[[1,2,3]]})\n",
    "    #Feed dictionary needs to be same shape as placeholder.\n",
    "    #Double list [[]] means it's shape (1,3)\n",
    "    #Using a single list [] fails because it considers it as shape (3,)\n",
    "    \n",
    "    B_val_2 = B.eval(feed_dict={A:[[4,5,6],[7,8,9]]})\n",
    "    \n",
    "print(B_val_1)\n",
    "\n",
    "print(B_val_2)"
   ]
  },
  {
   "cell_type": "code",
   "execution_count": 38,
   "metadata": {
    "scrolled": false
   },
   "outputs": [
    {
     "name": "stdout",
     "output_type": "stream",
     "text": [
      "<class 'numpy.float64'>\n",
      "[[-3.06055450e+06]\n",
      " [-3.87086975e+06]\n",
      " [-1.04485638e+06]\n",
      " [ 8.14620050e+06]\n",
      " [-5.96727550e+06]\n",
      " [ 2.85651025e+06]\n",
      " [-2.24665568e+08]\n",
      " [-1.02349244e+06]\n",
      " [ 1.21915362e+06]]\n"
     ]
    }
   ],
   "source": [
    "#Same thing but with Placeholders now\n",
    "\n",
    "n_epochs = 1000 #Number of times to loop through entire training set\n",
    "learning_rate = 0.01\n",
    "\n",
    "X_ph = tf.placeholder(dtype=\"float\", shape=(None,n+1))\n",
    "y_ph = tf.placeholder(dtype=\"float\", shape=(None,1))\n",
    "batch_size = 100\n",
    "\n",
    "X_ready[:,0] = 1\n",
    "y_ready = housing.target.reshape(-1,1)\n",
    "\n",
    "def fetch_batch(X, y, batch_size):\n",
    "    #From X_ready, and y_ready, randomly select instances to create\n",
    "    #A batch.\n",
    "    \n",
    "    random_idx = np.random.choice(X.shape[0], batch_size)\n",
    "    \n",
    "    X_batch = X[random_idx, :]\n",
    "    y_batch = y[random_idx, :]\n",
    "    return X_batch, y_batch\n",
    "\n",
    "theta = tf.Variable(tf.random_uniform([n + 1, 1], -1.0, 1.0), name=\"theta\")\n",
    "y_pred = tf.matmul(X_ph,theta, name=\"predictions\")\n",
    "error = y_pred - y_ph\n",
    "mse = tf.reduce_mean(tf.square(error), name=\"mse\")\n",
    "\n",
    "optimizer = tf.train.MomentumOptimizer(learning_rate=learning_rate,\n",
    "                                      momentum=0.9)\n",
    "training_op = optimizer.minimize(mse)\n",
    "\n",
    "init = tf.global_variables_initializer()\n",
    "\n",
    "b,s = fetch_batch(X_ready,y_ready,batch_size)\n",
    "print(type(s[0][0]))\n",
    "\n",
    "with tf.Session() as sess:\n",
    "    sess.run(init) #intiailize global variables\n",
    "    for epoch in range(n_epochs):\n",
    "        #if epoch % 100 ==0:\n",
    "        #   print(\"Epoch \", epoch, \"MSE = \", mse.eval())\n",
    "            \n",
    "        xbatch, ybatch = fetch_batch(X_ready, y_ready, batch_size)\n",
    "        sess.run(training_op, feed_dict={X_ph:xbatch.astype(np.float32), \n",
    "                                         y_ph:ybatch.astype(np.float32)\n",
    "                                        })\n",
    "                        \n",
    "    best_theta = theta.eval()\n",
    "    print(best_theta)"
   ]
  },
  {
   "cell_type": "markdown",
   "metadata": {},
   "source": [
    "## Saving and Restoring Models"
   ]
  },
  {
   "cell_type": "code",
   "execution_count": 42,
   "metadata": {},
   "outputs": [
    {
     "name": "stdout",
     "output_type": "stream",
     "text": [
      "[[ 2.3835254 ]\n",
      " [ 0.7338193 ]\n",
      " [ 0.03696795]\n",
      " [ 0.26960617]\n",
      " [-0.06930675]\n",
      " [-0.5359972 ]\n",
      " [21.232433  ]\n",
      " [-0.87486464]\n",
      " [-0.96384573]]\n"
     ]
    }
   ],
   "source": [
    "#Same thing but Saves the models now\n",
    "\n",
    "n_epochs = 1000 #Number of times to loop through entire training set\n",
    "learning_rate = 0.01\n",
    "\n",
    "X_ph = tf.placeholder(dtype=\"float\", shape=(None,n+1))\n",
    "y_ph = tf.placeholder(dtype=\"float\", shape=(None,1))\n",
    "batch_size = 100\n",
    "\n",
    "X_ready[:,0] = 1\n",
    "y_ready = housing.target.reshape(-1,1)\n",
    "\n",
    "def fetch_batch(X, y, batch_size):\n",
    "    #From X_ready, and y_ready, randomly select instances to create\n",
    "    #A batch.\n",
    "    \n",
    "    random_idx = np.random.choice(X.shape[0], batch_size)\n",
    "    \n",
    "    X_batch = X[random_idx, :]\n",
    "    y_batch = y[random_idx, :]\n",
    "    return X_batch, y_batch\n",
    "\n",
    "theta = tf.Variable(tf.random_uniform([n + 1, 1], -1.0, 1.0), name=\"theta\")\n",
    "y_pred = tf.matmul(X_ph,theta, name=\"predictions\")\n",
    "error = y_pred - y_ph\n",
    "mse = tf.reduce_mean(tf.square(error), name=\"mse\")\n",
    "\n",
    "optimizer = tf.train.MomentumOptimizer(learning_rate=learning_rate,\n",
    "                                      momentum=0.9)\n",
    "training_op = optimizer.minimize(mse)\n",
    "\n",
    "init = tf.global_variables_initializer()\n",
    "\n",
    "saver = tf.train.Saver()\n",
    "\n",
    "with tf.Session() as sess:\n",
    "    sess.run(init) #intiailize global variables\n",
    "    for epoch in range(n_epochs):\n",
    "        if epoch % 100 ==0:\n",
    "            save_path = saver.save(sess,\"./tmp/my_model.ckpt\")\n",
    "            \n",
    "        xbatch, ybatch = fetch_batch(X_ready, y_ready, batch_size)\n",
    "        sess.run(training_op, feed_dict={X_ph:xbatch.astype(np.float32), \n",
    "                                         y_ph:ybatch.astype(np.float32)\n",
    "                                        })\n",
    "    best_theta = theta.eval()\n",
    "    print(best_theta)\n",
    "    save_path = saver.save(sess,\"./tmp/my_model_final.ckpt\")"
   ]
  },
  {
   "cell_type": "code",
   "execution_count": null,
   "metadata": {},
   "outputs": [],
   "source": []
  }
 ],
 "metadata": {
  "kernelspec": {
   "display_name": "Python 3",
   "language": "python",
   "name": "python3"
  },
  "language_info": {
   "codemirror_mode": {
    "name": "ipython",
    "version": 3
   },
   "file_extension": ".py",
   "mimetype": "text/x-python",
   "name": "python",
   "nbconvert_exporter": "python",
   "pygments_lexer": "ipython3",
   "version": "3.5.2"
  }
 },
 "nbformat": 4,
 "nbformat_minor": 2
}
