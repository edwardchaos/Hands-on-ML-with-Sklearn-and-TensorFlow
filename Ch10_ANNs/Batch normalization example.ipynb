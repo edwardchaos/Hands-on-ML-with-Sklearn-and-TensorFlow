{
 "cells": [
  {
   "cell_type": "code",
   "execution_count": 1,
   "metadata": {},
   "outputs": [],
   "source": [
    "import tensorflow as tf\n",
    "\n",
    "n_inputs = 28*28\n",
    "n_hidden1 = 300\n",
    "n_hidden2 = 100\n",
    "n_outputs = 10\n",
    "\n",
    "X=tf.placeholder(dtype=tf.float32,shape=(None,n_inputs),name=\"X\")\n",
    "\n",
    "training=tf.placeholder_with_default(False,shape=(),name=\"training\")\n",
    "\n",
    "hidden1=tf.layers.dense(X,n_hidden1,name=\"hidden1\")\n",
    "bn1=tf.layers.batch_normalization(hidden1,training=training,momentum=0.9)\n",
    "bn1_act=tf.nn.elu(bn1)\n",
    "\n",
    "hidden2=tf.layers.dense(bn1_act,n_hidden2,name=\"hidden2\")\n",
    "bn2=tf.layers.batch_normalization(hidden2,training=training,momentum=0.9)\n",
    "bn2_act=tf.nn.elu(bn2)\n",
    "\n",
    "logits_before_bn=tf.layers.dense(bn2_act,n_outputs,name=\"outputs\")\n",
    "logits=tf.layers.batch_normalization(logits_before_bn,training=training,\n",
    "                                     momentum=0.9)"
   ]
  },
  {
   "cell_type": "code",
   "execution_count": null,
   "metadata": {},
   "outputs": [],
   "source": []
  }
 ],
 "metadata": {
  "kernelspec": {
   "display_name": "Python 3",
   "language": "python",
   "name": "python3"
  },
  "language_info": {
   "codemirror_mode": {
    "name": "ipython",
    "version": 3
   },
   "file_extension": ".py",
   "mimetype": "text/x-python",
   "name": "python",
   "nbconvert_exporter": "python",
   "pygments_lexer": "ipython3",
   "version": "3.6.6"
  }
 },
 "nbformat": 4,
 "nbformat_minor": 2
}
